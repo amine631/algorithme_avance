{
 "cells": [
  {
   "cell_type": "code",
   "execution_count": 1,
   "metadata": {},
   "outputs": [],
   "source": [
    "def tri_selection(tab):\n",
    "   for i in range(len(tab)):\n",
    "      # Trouver le min\n",
    "       min = i\n",
    "       for j in range(i+1, len(tab)):\n",
    "           if tab[min] > tab[j]:\n",
    "               min = j\n",
    "                \n",
    "       tmp = tab[i]\n",
    "       tab[i] = tab[min]\n",
    "       tab[min] = tmp\n",
    "   return tab\n"
   ]
  },
  {
   "cell_type": "code",
   "execution_count": 2,
   "metadata": {},
   "outputs": [
    {
     "name": "stdout",
     "output_type": "stream",
     "text": [
      "Le tableau trié est:\n",
      "2\n",
      "15\n",
      "22\n",
      "32\n",
      "63\n",
      "70\n",
      "74\n",
      "98\n"
     ]
    }
   ],
   "source": [
    "tab = [98, 22, 15, 32, 2, 74, 63, 70]\n",
    " \n",
    "tri_selection(tab)\n",
    " \n",
    "print (\"Le tableau trié est:\")\n",
    "for i in range(len(tab)):\n",
    "    print (\"%d\" %tab[i])"
   ]
  },
  {
   "cell_type": "code",
   "execution_count": 3,
   "metadata": {},
   "outputs": [
    {
     "name": "stdout",
     "output_type": "stream",
     "text": [
      "Le tableau trié est:\n",
      "0\n",
      "6\n",
      "9\n",
      "22\n",
      "32\n",
      "63\n",
      "70\n",
      "174\n"
     ]
    }
   ],
   "source": [
    "\n",
    "tab = [9, 22, 6, 32, 0, 174, 63, 70]\n",
    " \n",
    "tri_selection(tab)\n",
    " \n",
    "print (\"Le tableau trié est:\")\n",
    "for i in range(len(tab)):\n",
    "    print (\"%d\" %tab[i])"
   ]
  },
  {
   "cell_type": "code",
   "execution_count": null,
   "metadata": {},
   "outputs": [],
   "source": []
  }
 ],
 "metadata": {
  "kernelspec": {
   "display_name": "Python 3",
   "language": "python",
   "name": "python3"
  },
  "language_info": {
   "codemirror_mode": {
    "name": "ipython",
    "version": 3
   },
   "file_extension": ".py",
   "mimetype": "text/x-python",
   "name": "python",
   "nbconvert_exporter": "python",
   "pygments_lexer": "ipython3",
   "version": "3.8.3"
  }
 },
 "nbformat": 4,
 "nbformat_minor": 4
}
