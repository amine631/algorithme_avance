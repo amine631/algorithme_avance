{
 "cells": [
  {
   "cell_type": "code",
   "execution_count": 18,
   "metadata": {},
   "outputs": [],
   "source": [
    "def triRapide(v, debut, fin):\n",
    "\n",
    "    def division(v, debut, fin):\n",
    "        i = (debut-1) \n",
    "        pivot = v[fin] \n",
    "\n",
    "        for j in range(debut, fin):\n",
    "\n",
    "            if v[j] <= pivot:\n",
    "\n",
    "                i = i+1\n",
    "                v[i], v[j] = v[j], v[i]\n",
    "\n",
    "        v[i+1], v[fin] = v[fin], v[i+1]\n",
    "        return (i+1)\n",
    "\n",
    "    if len(v) == 1:\n",
    "        return v\n",
    "    if debut < fin:\n",
    "\n",
    "        pivot = division(v, debut, fin)\n",
    "        triRapide(v, debut, pivot-1)\n",
    "        triRapide(v, pivot+1, fin)\n",
    "    print (v)\n",
    "    "
   ]
  },
  {
   "cell_type": "code",
   "execution_count": 21,
   "metadata": {},
   "outputs": [
    {
     "name": "stdout",
     "output_type": "stream",
     "text": [
      "[1, 3, 2, 4, 5, 7, 10, 11, 12, 300, 422]\n",
      "[1, 2, 3, 4, 5, 7, 10, 11, 12, 300, 422]\n",
      "[1, 2, 3, 4, 5, 7, 10, 11, 12, 300, 422]\n",
      "[1, 2, 3, 4, 5, 7, 10, 11, 12, 300, 422]\n",
      "[1, 2, 3, 4, 5, 7, 10, 11, 12, 300, 422]\n",
      "[1, 2, 3, 4, 5, 7, 10, 11, 12, 300, 422]\n",
      "[1, 2, 3, 4, 5, 7, 10, 11, 12, 300, 422]\n",
      "[1, 2, 3, 4, 5, 7, 10, 11, 12, 300, 422]\n",
      "[1, 2, 3, 4, 5, 7, 10, 11, 12, 300, 422]\n",
      "[1, 2, 3, 4, 5, 7, 10, 11, 12, 300, 422]\n",
      "[1, 2, 3, 4, 5, 7, 10, 11, 12, 300, 422]\n",
      "[1, 2, 3, 4, 5, 7, 10, 11, 12, 300, 422]\n",
      "[1, 2, 3, 4, 5, 7, 10, 11, 12, 300, 422]\n",
      "[1, 2, 3, 4, 5, 7, 10, 11, 12, 300, 422]\n",
      "[1, 2, 3, 4, 5, 7, 10, 11, 12, 300, 422]\n"
     ]
    }
   ],
   "source": [
    "a=[5,2,7,10,3,1,422,12,4,11,300]\n",
    "n=len(a)-1\n",
    "triRapide(a,0,n)"
   ]
  },
  {
   "cell_type": "code",
   "execution_count": 22,
   "metadata": {},
   "outputs": [
    {
     "name": "stdout",
     "output_type": "stream",
     "text": [
      "[1, 2, 7, 3, 5, 40, 110, 120, 300, 400]\n",
      "[1, 2, 3, 5, 7, 40, 110, 120, 300, 400]\n",
      "[1, 2, 3, 5, 7, 40, 110, 120, 300, 400]\n",
      "[1, 2, 3, 5, 7, 40, 110, 120, 300, 400]\n",
      "[1, 2, 3, 5, 7, 40, 110, 120, 300, 400]\n",
      "[1, 2, 3, 5, 7, 40, 110, 120, 300, 400]\n",
      "[1, 2, 3, 5, 7, 40, 110, 120, 300, 400]\n",
      "[1, 2, 3, 5, 7, 40, 110, 120, 300, 400]\n",
      "[1, 2, 3, 5, 7, 40, 110, 120, 300, 400]\n",
      "[1, 2, 3, 5, 7, 40, 110, 120, 300, 400]\n",
      "[1, 2, 3, 5, 7, 40, 110, 120, 300, 400]\n",
      "[1, 2, 3, 5, 7, 40, 110, 120, 300, 400]\n",
      "[1, 2, 3, 5, 7, 40, 110, 120, 300, 400]\n"
     ]
    }
   ],
   "source": [
    "a=[5,2,7,3,1,400,120,40,110,300]\n",
    "n=len(a)-1\n",
    "triRapide(a,0,n)"
   ]
  },
  {
   "cell_type": "code",
   "execution_count": null,
   "metadata": {},
   "outputs": [],
   "source": []
  }
 ],
 "metadata": {
  "kernelspec": {
   "display_name": "Python 3",
   "language": "python",
   "name": "python3"
  },
  "language_info": {
   "codemirror_mode": {
    "name": "ipython",
    "version": 3
   },
   "file_extension": ".py",
   "mimetype": "text/x-python",
   "name": "python",
   "nbconvert_exporter": "python",
   "pygments_lexer": "ipython3",
   "version": "3.8.3"
  }
 },
 "nbformat": 4,
 "nbformat_minor": 4
}
