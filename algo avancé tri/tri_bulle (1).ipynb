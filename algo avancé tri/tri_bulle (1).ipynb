{
 "cells": [
  {
   "cell_type": "code",
   "execution_count": 1,
   "metadata": {},
   "outputs": [
    {
     "name": "stdout",
     "output_type": "stream",
     "text": [
      "Le tableau trié est:\n",
      "2\n",
      "15\n",
      "22\n",
      "32\n",
      "63\n",
      "70\n",
      "74\n",
      "98\n"
     ]
    }
   ],
   "source": [
    "def tri_bulle(tab):\n",
    "    n = len(tab)\n",
    "    \n",
    "    for i in range(n):\n",
    "        for j in range(0, n-i-1):\n",
    "            # échanger si l'élément trouvé est plus grand que le suivant\n",
    "            if tab[j] > tab[j+1] :\n",
    "                tab[j], tab[j+1] = tab[j+1], tab[j]\n",
    "# tester le code \n",
    "tab = [98, 22, 15, 32, 2, 74, 63, 70]\n",
    " \n",
    "tri_bulle(tab)\n",
    " \n",
    "print (\"Le tableau trié est:\")\n",
    "for i in range(len(tab)):\n",
    "    print (\"%d\" %tab[i])"
   ]
  },
  {
   "cell_type": "code",
   "execution_count": null,
   "metadata": {},
   "outputs": [],
   "source": []
  },
  {
   "cell_type": "code",
   "execution_count": 4,
   "metadata": {},
   "outputs": [
    {
     "name": "stdout",
     "output_type": "stream",
     "text": [
      "Le tableau trié est:\n",
      "0\n",
      "11\n",
      "15\n",
      "22\n",
      "33\n",
      "66\n",
      "77\n",
      "88\n"
     ]
    }
   ],
   "source": [
    "def tri_bulle(tab):\n",
    "    n = len(tab)\n",
    "    \n",
    "    for i in range(n):\n",
    "        for j in range(0, n-i-1):\n",
    "            # échanger si l'élément trouvé est plus grand que le suivant\n",
    "            if tab[j] > tab[j+1] :\n",
    "                tab[j], tab[j+1] = tab[j+1], tab[j]\n",
    "# tester le code \n",
    "tab = [0, 11, 15, 33, 22, 88, 66, 77]\n",
    " \n",
    "tri_bulle(tab)\n",
    " \n",
    "print (\"Le tableau trié est:\")\n",
    "for i in range(len(tab)):\n",
    "    print (\"%d\" %tab[i])"
   ]
  },
  {
   "cell_type": "code",
   "execution_count": 2,
   "metadata": {},
   "outputs": [
    {
     "name": "stdout",
     "output_type": "stream",
     "text": [
      "Le tableau trié est:\n",
      "0\n",
      "2\n",
      "10\n",
      "15\n",
      "22\n",
      "66\n",
      "82\n",
      "120\n"
     ]
    }
   ],
   "source": [
    "tab = [2, 0, 15, 10, 22, 120, 66, 82]\n",
    " \n",
    "tri_bulle(tab)\n",
    " \n",
    "print (\"Le tableau trié est:\")\n",
    "for i in range(len(tab)):\n",
    "    print (\"%d\" %tab[i])"
   ]
  },
  {
   "cell_type": "code",
   "execution_count": null,
   "metadata": {},
   "outputs": [],
   "source": []
  }
 ],
 "metadata": {
  "kernelspec": {
   "display_name": "Python 3",
   "language": "python",
   "name": "python3"
  },
  "language_info": {
   "codemirror_mode": {
    "name": "ipython",
    "version": 3
   },
   "file_extension": ".py",
   "mimetype": "text/x-python",
   "name": "python",
   "nbconvert_exporter": "python",
   "pygments_lexer": "ipython3",
   "version": "3.8.3"
  }
 },
 "nbformat": 4,
 "nbformat_minor": 4
}
