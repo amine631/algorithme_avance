{
 "cells": [
  {
   "cell_type": "code",
   "execution_count": 4,
   "metadata": {},
   "outputs": [],
   "source": [
    "def triFusion(v):\n",
    "    \n",
    "    if len(v)>1:\n",
    "        mid = len(v)//2\n",
    "        left = v[:mid]\n",
    "        righ = v[mid:]\n",
    "\n",
    "        triFussion(left)\n",
    "        triFussion(righ)\n",
    "\n",
    "        i=0\n",
    "        j=0\n",
    "        k=0\n",
    "        while i < len(left) and j < len(righ):\n",
    "            if left[i] <= righ[j]:\n",
    "                v[k]=left[i]\n",
    "                i=i+1\n",
    "            else:\n",
    "                v[k]=righ[j]\n",
    "                j=j+1\n",
    "            k=k+1\n",
    "\n",
    "        while i < len(left):\n",
    "            v[k]=left[i]\n",
    "            i=i+1\n",
    "            k=k+1\n",
    "\n",
    "        while j < len(righ):\n",
    "            v[k]=righ[j]\n",
    "            j=j+1\n",
    "            k=k+1\n",
    "        print (v)    "
   ]
  },
  {
   "cell_type": "code",
   "execution_count": 5,
   "metadata": {},
   "outputs": [
    {
     "name": "stdout",
     "output_type": "stream",
     "text": [
      "[0, 5, 11, 22, 33, 66, 77, 88]\n"
     ]
    }
   ],
   "source": [
    "v = [0, 11, 5, 33, 22, 88, 66, 77] \n",
    "triFusion(v)"
   ]
  },
  {
   "cell_type": "code",
   "execution_count": 7,
   "metadata": {},
   "outputs": [
    {
     "name": "stdout",
     "output_type": "stream",
     "text": [
      "[0, 5, 12, 15, 19, 33, 44, 50, 77, 88, 150, 200]\n"
     ]
    }
   ],
   "source": [
    "v = [0, 15, 5, 33, 12, 88, 50, 77,44,19,150,200]\n",
    "triFusion(v)"
   ]
  },
  {
   "cell_type": "code",
   "execution_count": null,
   "metadata": {},
   "outputs": [],
   "source": []
  }
 ],
 "metadata": {
  "kernelspec": {
   "display_name": "Python 3",
   "language": "python",
   "name": "python3"
  },
  "language_info": {
   "codemirror_mode": {
    "name": "ipython",
    "version": 3
   },
   "file_extension": ".py",
   "mimetype": "text/x-python",
   "name": "python",
   "nbconvert_exporter": "python",
   "pygments_lexer": "ipython3",
   "version": "3.8.3"
  }
 },
 "nbformat": 4,
 "nbformat_minor": 4
}
