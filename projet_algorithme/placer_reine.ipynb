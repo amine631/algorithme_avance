{
 "cells": [
  {
   "cell_type": "code",
   "execution_count": 1,
   "metadata": {},
   "outputs": [],
   "source": [
    "def placer1reine(j):\n",
    "\n",
    "    if j==8:\n",
    "        print (sol)\n",
    "    else:\n",
    "        for i in range(8):\n",
    "            if L[i]and D1[i+j] and D2[i-j+7]:\n",
    "                sol[j]=i # on place la reine en (i,j)\n",
    "                L[i]=False # On interdit la ligne i\n",
    "                D1[i+j]=False # On interdit diagonale D1 qui passe par (i,j)\n",
    "                D2[i-j+7]=False # On interdit diagonale D2 qui passe par (i,j)\n",
    "                placer1reine(j+1) # On passe à la colonne suivante\n",
    "                D2[i-j+7]=True # Au retour, on enlève la reine que l’on avait placée\n",
    "                D1[i+j]=True # placée en repermettant d’utiliser à nouveau la\n",
    "                L[i]=True # ligne et les diagonales qui passent par (i,j).\n",
    "   "
   ]
  },
  {
   "cell_type": "code",
   "execution_count": null,
   "metadata": {},
   "outputs": [],
   "source": [
    "\n"
   ]
  },
  {
   "cell_type": "code",
   "execution_count": null,
   "metadata": {},
   "outputs": [],
   "source": []
  },
  {
   "cell_type": "code",
   "execution_count": null,
   "metadata": {},
   "outputs": [],
   "source": []
  }
 ],
 "metadata": {
  "kernelspec": {
   "display_name": "Python 3",
   "language": "python",
   "name": "python3"
  },
  "language_info": {
   "codemirror_mode": {
    "name": "ipython",
    "version": 3
   },
   "file_extension": ".py",
   "mimetype": "text/x-python",
   "name": "python",
   "nbconvert_exporter": "python",
   "pygments_lexer": "ipython3",
   "version": "3.8.3"
  }
 },
 "nbformat": 4,
 "nbformat_minor": 4
}
