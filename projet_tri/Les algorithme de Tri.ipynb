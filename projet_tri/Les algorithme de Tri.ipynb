{
 "cells": [
  {
   "cell_type": "markdown",
   "metadata": {},
   "source": [
    "# Tri à Bulle"
   ]
  },
  {
   "cell_type": "code",
   "execution_count": 13,
   "metadata": {},
   "outputs": [],
   "source": [
    "\n",
    "def triBulle (v):\n",
    "    permut = True\n",
    "    p=len(a)-1\n",
    "    while (permut):\n",
    "        permut=False\n",
    "        for i in range(0,p):\n",
    "            if (a[i] > a[i+1]):\n",
    "                aux=a[i]\n",
    "                a[i]=a[i+1]\n",
    "                a[i+1]=aux\n",
    "                permut=True\n",
    "        p-=1\n",
    "    print(\"le tableau trié\",a)"
   ]
  },
  {
   "cell_type": "code",
   "execution_count": 14,
   "metadata": {},
   "outputs": [
    {
     "name": "stdout",
     "output_type": "stream",
     "text": [
      "le tableau non trié [7, 9, 5, 50, 2, 15, 10, 30, 44, 150, 444, 111, 250]\n",
      "le tableau trié [2, 5, 7, 9, 10, 15, 30, 44, 50, 111, 150, 250, 444]\n"
     ]
    }
   ],
   "source": [
    "a=[7,9,5,50,2,15,10,30,44,150,444,111,250]\n",
    "\n",
    "print(\"le tableau non trié\",a)\n",
    "triBulle(a)\n"
   ]
  },
  {
   "cell_type": "markdown",
   "metadata": {},
   "source": [
    "# Tri par Insertion"
   ]
  },
  {
   "cell_type": "code",
   "execution_count": 5,
   "metadata": {},
   "outputs": [],
   "source": [
    "def triInsertion (v):\n",
    "    p=len(v)-1\n",
    "    for i in range(0,p) :\n",
    "        x = v[i+1]\n",
    "        j=i\n",
    "        while((v[j] > x ) and (j>=0) ) :\n",
    "            v[j+1] = v[j]\n",
    "            j-= 1\n",
    "        v[j+1] = x\n",
    "    print(\"le tableau trié\",v)"
   ]
  },
  {
   "cell_type": "code",
   "execution_count": 15,
   "metadata": {},
   "outputs": [
    {
     "name": "stdout",
     "output_type": "stream",
     "text": [
      "le tableau non trié [7, 9, 5, 50, 2, 15, 10, 30, 44, 150, 444, 111, 250]\n",
      "le tableau trié [2, 5, 7, 9, 10, 15, 30, 44, 50, 111, 150, 250, 444]\n"
     ]
    }
   ],
   "source": [
    "a=[7,9,5,50,2,15,10,30,44,150,444,111,250]\n",
    "print(\"le tableau non trié\",a)\n",
    "triInsertion(a)"
   ]
  },
  {
   "cell_type": "markdown",
   "metadata": {},
   "source": [
    "# Tri Fusion"
   ]
  },
  {
   "cell_type": "code",
   "execution_count": 5,
   "metadata": {},
   "outputs": [],
   "source": [
    "def triFusion(v):\n",
    "    \n",
    "    if len(v)>1:\n",
    "        mid = len(v)//2\n",
    "        left = v[:mid]\n",
    "        righ = v[mid:]\n",
    "\n",
    "        triFusion(left)\n",
    "        triFusion(righ)\n",
    "\n",
    "        i=0\n",
    "        j=0\n",
    "        k=0\n",
    "        while i < len(left) and j < len(righ):\n",
    "            if left[i] <= righ[j]:\n",
    "                v[k]=left[i]\n",
    "                i=i+1\n",
    "            else:\n",
    "                v[k]=righ[j]\n",
    "                j=j+1\n",
    "            k=k+1\n",
    "\n",
    "        while i < len(left):\n",
    "            v[k]=left[i]\n",
    "            i=i+1\n",
    "            k=k+1\n",
    "\n",
    "        while j < len(righ):\n",
    "            v[k]=righ[j]\n",
    "            j=j+1\n",
    "            k=k+1\n",
    "        print(\"le tableau trié\",v)"
   ]
  },
  {
   "cell_type": "code",
   "execution_count": 6,
   "metadata": {},
   "outputs": [
    {
     "name": "stdout",
     "output_type": "stream",
     "text": [
      "le tableau non trié [7, 9, 5, 50, 2, 15, 10, 30, 44, 150, 444, 111, 250]\n",
      "le tableau trié [5, 9]\n",
      "le tableau trié [5, 7, 9]\n",
      "le tableau trié [2, 15]\n",
      "le tableau trié [2, 15, 50]\n",
      "le tableau trié [2, 5, 7, 9, 15, 50]\n",
      "le tableau trié [30, 44]\n",
      "le tableau trié [10, 30, 44]\n",
      "le tableau trié [150, 444]\n",
      "le tableau trié [111, 250]\n",
      "le tableau trié [111, 150, 250, 444]\n",
      "le tableau trié [10, 30, 44, 111, 150, 250, 444]\n",
      "le tableau trié [2, 5, 7, 9, 10, 15, 30, 44, 50, 111, 150, 250, 444]\n"
     ]
    }
   ],
   "source": [
    "a=[7,9,5,50,2,15,10,30,44,150,444,111,250]\n",
    "print(\"le tableau non trié\",a)\n",
    "triFusion(a)"
   ]
  },
  {
   "cell_type": "markdown",
   "metadata": {},
   "source": [
    "# Tri Rapide"
   ]
  },
  {
   "cell_type": "code",
   "execution_count": 22,
   "metadata": {},
   "outputs": [],
   "source": [
    "def triRapide(v, debut, fin):\n",
    "\n",
    "    def division(v, debut, fin):\n",
    "        i = (debut-1)\n",
    "        pivot = v[fin]\n",
    "\n",
    "        for j in range(debut, fin):\n",
    "\n",
    "            if v[j] <= pivot:\n",
    "\n",
    "                i = i+1\n",
    "                v[i], v[j] = v[j], v[i]\n",
    "\n",
    "        v[i+1], v[fin] = v[fin], v[i+1]\n",
    "        return (i+1)\n",
    "\n",
    "    if len(v) == 1:\n",
    "        return v\n",
    "    if debut < fin:\n",
    "\n",
    "        pivot = division(v, debut, fin)\n",
    "        triRapide(v, debut, pivot-1)\n",
    "        triRapide(v, pivot+1, fin)\n",
    "     \n",
    "        "
   ]
  },
  {
   "cell_type": "code",
   "execution_count": 23,
   "metadata": {},
   "outputs": [
    {
     "name": "stdout",
     "output_type": "stream",
     "text": [
      "le tableau non trié [7, 9, 5, 50, 2, 15, 10, 30, 44, 150, 444, 111, 250]\n",
      "le tableau trié [2, 5, 7, 9, 10, 15, 30, 44, 50, 111, 150, 250, 444]\n"
     ]
    }
   ],
   "source": [
    "a=[7,9,5,50,2,15,10,30,44,150,444,111,250]\n",
    "print(\"le tableau non trié\",a)\n",
    "n=len(a)-1\n",
    "triRapide(a,0,n)\n",
    "print(\"le tableau trié\",a)"
   ]
  },
  {
   "cell_type": "markdown",
   "metadata": {},
   "source": [
    "# Tri par Selection:"
   ]
  },
  {
   "cell_type": "code",
   "execution_count": 1,
   "metadata": {},
   "outputs": [],
   "source": [
    "def triSelection(v):\n",
    "    for i in range(len(v)):\n",
    "        ind_min = i\n",
    "        for k in range(i+1,len(v)):\n",
    "            if (v[k] < v[ind_min]):\n",
    "                ind_min = k\n",
    "        aux = v[i]\n",
    "        v[i]= v[ind_min]\n",
    "        v[ind_min]=aux\n",
    "    print(\"Le tableau trié\",v)"
   ]
  },
  {
   "cell_type": "code",
   "execution_count": 2,
   "metadata": {},
   "outputs": [
    {
     "name": "stdout",
     "output_type": "stream",
     "text": [
      "le tableau non trié [7, 9, 5, 50, 2, 15, 10, 30, 44, 150, 444, 111, 250]\n",
      "Le tableau trié [2, 5, 7, 9, 10, 15, 30, 44, 50, 111, 150, 250, 444]\n"
     ]
    }
   ],
   "source": [
    "a=[7,9,5,50,2,15,10,30,44,150,444,111,250]\n",
    "print(\"le tableau non trié\",a)\n",
    "triSelection(a)"
   ]
  },
  {
   "cell_type": "code",
   "execution_count": null,
   "metadata": {},
   "outputs": [],
   "source": []
  }
 ],
 "metadata": {
  "kernelspec": {
   "display_name": "Python 3",
   "language": "python",
   "name": "python3"
  },
  "language_info": {
   "codemirror_mode": {
    "name": "ipython",
    "version": 3
   },
   "file_extension": ".py",
   "mimetype": "text/x-python",
   "name": "python",
   "nbconvert_exporter": "python",
   "pygments_lexer": "ipython3",
   "version": "3.8.3"
  }
 },
 "nbformat": 4,
 "nbformat_minor": 4
}
